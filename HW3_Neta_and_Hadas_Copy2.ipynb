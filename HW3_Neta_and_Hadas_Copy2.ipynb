{
  "cells": [
    {
      "cell_type": "markdown",
      "metadata": {
        "id": "RDmHTF5232la"
      },
      "source": [
        "# Dimensionality reduction"
      ]
    },
    {
      "cell_type": "markdown",
      "metadata": {
        "id": "kgpLAoVH32le"
      },
      "source": [
        "In this task you will practice dimensionality reduction.\n",
        "Use code cells to answer the Tasks and Markdown cells for the Questions (Q's)."
      ]
    },
    {
      "cell_type": "code",
      "execution_count": 6,
      "metadata": {
        "_cell_guid": "b1076dfc-b9ad-4769-8c92-a6c4dae69d19",
        "_uuid": "8f2839f25d086af736a60e9eeb907d3b93b6e0e5",
        "id": "7DLJ446A32lf"
      },
      "outputs": [],
      "source": [
        "import sklearn\n",
        "from sklearn.tree import DecisionTreeClassifier\n",
        "from sklearn.model_selection import train_test_split\n",
        "from sklearn.datasets import load_breast_cancer\n",
        "import pandas as pd\n",
        "from sklearn.metrics import accuracy_score\n",
        "from sklearn.decomposition import PCA\n",
        "from sklearn.datasets import load_wine\n",
        "from sklearn.linear_model import LogisticRegression"
      ]
    },
    {
      "cell_type": "markdown",
      "metadata": {
        "id": "QuqIaglD32lg"
      },
      "source": [
        "# Load data"
      ]
    },
    {
      "cell_type": "code",
      "execution_count": 7,
      "metadata": {
        "id": "Gi1DNp5-32lh"
      },
      "outputs": [],
      "source": [
        "(X, y) = load_wine(return_X_y=True)\n",
        "\n",
        "# split X into training and testing sets\n",
        "X_train, X_test, y_train, y_test = train_test_split(X, y, test_size=0.4, random_state=0,stratify=y)"
      ]
    },
    {
      "cell_type": "markdown",
      "metadata": {
        "id": "cB7dmNQP32lh"
      },
      "source": [
        "Lets take a quick look at the data:"
      ]
    },
    {
      "cell_type": "code",
      "execution_count": 8,
      "metadata": {
        "id": "ypYMfIuC32lh",
        "colab": {
          "base_uri": "https://localhost:8080/",
          "height": 364
        },
        "outputId": "aa92b5df-111c-4c06-900b-7457957ae106"
      },
      "outputs": [
        {
          "output_type": "execute_result",
          "data": {
            "text/plain": [
              "               0           1           2           3           4           5   \\\n",
              "count  106.000000  106.000000  106.000000  106.000000  106.000000  106.000000   \n",
              "mean    13.031792    2.332642    2.367170   19.701887   98.556604    2.282170   \n",
              "std      0.821117    1.126702    0.271797    3.159023   13.749514    0.573592   \n",
              "min     11.460000    0.890000    1.700000   12.000000   70.000000    1.250000   \n",
              "25%     12.332500    1.632500    2.210000   17.500000   88.000000    1.800000   \n",
              "50%     13.135000    1.845000    2.350000   19.500000   97.000000    2.210000   \n",
              "75%     13.677500    3.135000    2.580000   21.575000  105.750000    2.787500   \n",
              "max     14.830000    5.650000    3.230000   28.500000  151.000000    3.380000   \n",
              "\n",
              "               6           7           8           9           10          11  \\\n",
              "count  106.000000  106.000000  106.000000  106.000000  106.000000  106.000000   \n",
              "mean     1.981509    0.375755    1.620849    5.150472    0.951321    2.617830   \n",
              "std      1.013492    0.124869    0.592705    2.443026    0.216509    0.680315   \n",
              "min      0.470000    0.130000    0.420000    1.740000    0.480000    1.270000   \n",
              "25%      1.017500    0.270000    1.252500    3.180000    0.802500    1.972500   \n",
              "50%      2.035000    0.360000    1.545000    4.800000    0.960000    2.795000   \n",
              "75%      2.855000    0.477500    1.970000    6.200000    1.097500    3.167500   \n",
              "max      5.080000    0.630000    3.580000   13.000000    1.420000    4.000000   \n",
              "\n",
              "                12  \n",
              "count   106.000000  \n",
              "mean    756.915094  \n",
              "std     326.825135  \n",
              "min     278.000000  \n",
              "25%     510.000000  \n",
              "50%     675.000000  \n",
              "75%    1023.750000  \n",
              "max    1680.000000  "
            ],
            "text/html": [
              "\n",
              "  <div id=\"df-09e54d2b-c4ee-48e1-b67f-1144cce3ad32\">\n",
              "    <div class=\"colab-df-container\">\n",
              "      <div>\n",
              "<style scoped>\n",
              "    .dataframe tbody tr th:only-of-type {\n",
              "        vertical-align: middle;\n",
              "    }\n",
              "\n",
              "    .dataframe tbody tr th {\n",
              "        vertical-align: top;\n",
              "    }\n",
              "\n",
              "    .dataframe thead th {\n",
              "        text-align: right;\n",
              "    }\n",
              "</style>\n",
              "<table border=\"1\" class=\"dataframe\">\n",
              "  <thead>\n",
              "    <tr style=\"text-align: right;\">\n",
              "      <th></th>\n",
              "      <th>0</th>\n",
              "      <th>1</th>\n",
              "      <th>2</th>\n",
              "      <th>3</th>\n",
              "      <th>4</th>\n",
              "      <th>5</th>\n",
              "      <th>6</th>\n",
              "      <th>7</th>\n",
              "      <th>8</th>\n",
              "      <th>9</th>\n",
              "      <th>10</th>\n",
              "      <th>11</th>\n",
              "      <th>12</th>\n",
              "    </tr>\n",
              "  </thead>\n",
              "  <tbody>\n",
              "    <tr>\n",
              "      <th>count</th>\n",
              "      <td>106.000000</td>\n",
              "      <td>106.000000</td>\n",
              "      <td>106.000000</td>\n",
              "      <td>106.000000</td>\n",
              "      <td>106.000000</td>\n",
              "      <td>106.000000</td>\n",
              "      <td>106.000000</td>\n",
              "      <td>106.000000</td>\n",
              "      <td>106.000000</td>\n",
              "      <td>106.000000</td>\n",
              "      <td>106.000000</td>\n",
              "      <td>106.000000</td>\n",
              "      <td>106.000000</td>\n",
              "    </tr>\n",
              "    <tr>\n",
              "      <th>mean</th>\n",
              "      <td>13.031792</td>\n",
              "      <td>2.332642</td>\n",
              "      <td>2.367170</td>\n",
              "      <td>19.701887</td>\n",
              "      <td>98.556604</td>\n",
              "      <td>2.282170</td>\n",
              "      <td>1.981509</td>\n",
              "      <td>0.375755</td>\n",
              "      <td>1.620849</td>\n",
              "      <td>5.150472</td>\n",
              "      <td>0.951321</td>\n",
              "      <td>2.617830</td>\n",
              "      <td>756.915094</td>\n",
              "    </tr>\n",
              "    <tr>\n",
              "      <th>std</th>\n",
              "      <td>0.821117</td>\n",
              "      <td>1.126702</td>\n",
              "      <td>0.271797</td>\n",
              "      <td>3.159023</td>\n",
              "      <td>13.749514</td>\n",
              "      <td>0.573592</td>\n",
              "      <td>1.013492</td>\n",
              "      <td>0.124869</td>\n",
              "      <td>0.592705</td>\n",
              "      <td>2.443026</td>\n",
              "      <td>0.216509</td>\n",
              "      <td>0.680315</td>\n",
              "      <td>326.825135</td>\n",
              "    </tr>\n",
              "    <tr>\n",
              "      <th>min</th>\n",
              "      <td>11.460000</td>\n",
              "      <td>0.890000</td>\n",
              "      <td>1.700000</td>\n",
              "      <td>12.000000</td>\n",
              "      <td>70.000000</td>\n",
              "      <td>1.250000</td>\n",
              "      <td>0.470000</td>\n",
              "      <td>0.130000</td>\n",
              "      <td>0.420000</td>\n",
              "      <td>1.740000</td>\n",
              "      <td>0.480000</td>\n",
              "      <td>1.270000</td>\n",
              "      <td>278.000000</td>\n",
              "    </tr>\n",
              "    <tr>\n",
              "      <th>25%</th>\n",
              "      <td>12.332500</td>\n",
              "      <td>1.632500</td>\n",
              "      <td>2.210000</td>\n",
              "      <td>17.500000</td>\n",
              "      <td>88.000000</td>\n",
              "      <td>1.800000</td>\n",
              "      <td>1.017500</td>\n",
              "      <td>0.270000</td>\n",
              "      <td>1.252500</td>\n",
              "      <td>3.180000</td>\n",
              "      <td>0.802500</td>\n",
              "      <td>1.972500</td>\n",
              "      <td>510.000000</td>\n",
              "    </tr>\n",
              "    <tr>\n",
              "      <th>50%</th>\n",
              "      <td>13.135000</td>\n",
              "      <td>1.845000</td>\n",
              "      <td>2.350000</td>\n",
              "      <td>19.500000</td>\n",
              "      <td>97.000000</td>\n",
              "      <td>2.210000</td>\n",
              "      <td>2.035000</td>\n",
              "      <td>0.360000</td>\n",
              "      <td>1.545000</td>\n",
              "      <td>4.800000</td>\n",
              "      <td>0.960000</td>\n",
              "      <td>2.795000</td>\n",
              "      <td>675.000000</td>\n",
              "    </tr>\n",
              "    <tr>\n",
              "      <th>75%</th>\n",
              "      <td>13.677500</td>\n",
              "      <td>3.135000</td>\n",
              "      <td>2.580000</td>\n",
              "      <td>21.575000</td>\n",
              "      <td>105.750000</td>\n",
              "      <td>2.787500</td>\n",
              "      <td>2.855000</td>\n",
              "      <td>0.477500</td>\n",
              "      <td>1.970000</td>\n",
              "      <td>6.200000</td>\n",
              "      <td>1.097500</td>\n",
              "      <td>3.167500</td>\n",
              "      <td>1023.750000</td>\n",
              "    </tr>\n",
              "    <tr>\n",
              "      <th>max</th>\n",
              "      <td>14.830000</td>\n",
              "      <td>5.650000</td>\n",
              "      <td>3.230000</td>\n",
              "      <td>28.500000</td>\n",
              "      <td>151.000000</td>\n",
              "      <td>3.380000</td>\n",
              "      <td>5.080000</td>\n",
              "      <td>0.630000</td>\n",
              "      <td>3.580000</td>\n",
              "      <td>13.000000</td>\n",
              "      <td>1.420000</td>\n",
              "      <td>4.000000</td>\n",
              "      <td>1680.000000</td>\n",
              "    </tr>\n",
              "  </tbody>\n",
              "</table>\n",
              "</div>\n",
              "      <button class=\"colab-df-convert\" onclick=\"convertToInteractive('df-09e54d2b-c4ee-48e1-b67f-1144cce3ad32')\"\n",
              "              title=\"Convert this dataframe to an interactive table.\"\n",
              "              style=\"display:none;\">\n",
              "        \n",
              "  <svg xmlns=\"http://www.w3.org/2000/svg\" height=\"24px\"viewBox=\"0 0 24 24\"\n",
              "       width=\"24px\">\n",
              "    <path d=\"M0 0h24v24H0V0z\" fill=\"none\"/>\n",
              "    <path d=\"M18.56 5.44l.94 2.06.94-2.06 2.06-.94-2.06-.94-.94-2.06-.94 2.06-2.06.94zm-11 1L8.5 8.5l.94-2.06 2.06-.94-2.06-.94L8.5 2.5l-.94 2.06-2.06.94zm10 10l.94 2.06.94-2.06 2.06-.94-2.06-.94-.94-2.06-.94 2.06-2.06.94z\"/><path d=\"M17.41 7.96l-1.37-1.37c-.4-.4-.92-.59-1.43-.59-.52 0-1.04.2-1.43.59L10.3 9.45l-7.72 7.72c-.78.78-.78 2.05 0 2.83L4 21.41c.39.39.9.59 1.41.59.51 0 1.02-.2 1.41-.59l7.78-7.78 2.81-2.81c.8-.78.8-2.07 0-2.86zM5.41 20L4 18.59l7.72-7.72 1.47 1.35L5.41 20z\"/>\n",
              "  </svg>\n",
              "      </button>\n",
              "      \n",
              "  <style>\n",
              "    .colab-df-container {\n",
              "      display:flex;\n",
              "      flex-wrap:wrap;\n",
              "      gap: 12px;\n",
              "    }\n",
              "\n",
              "    .colab-df-convert {\n",
              "      background-color: #E8F0FE;\n",
              "      border: none;\n",
              "      border-radius: 50%;\n",
              "      cursor: pointer;\n",
              "      display: none;\n",
              "      fill: #1967D2;\n",
              "      height: 32px;\n",
              "      padding: 0 0 0 0;\n",
              "      width: 32px;\n",
              "    }\n",
              "\n",
              "    .colab-df-convert:hover {\n",
              "      background-color: #E2EBFA;\n",
              "      box-shadow: 0px 1px 2px rgba(60, 64, 67, 0.3), 0px 1px 3px 1px rgba(60, 64, 67, 0.15);\n",
              "      fill: #174EA6;\n",
              "    }\n",
              "\n",
              "    [theme=dark] .colab-df-convert {\n",
              "      background-color: #3B4455;\n",
              "      fill: #D2E3FC;\n",
              "    }\n",
              "\n",
              "    [theme=dark] .colab-df-convert:hover {\n",
              "      background-color: #434B5C;\n",
              "      box-shadow: 0px 1px 3px 1px rgba(0, 0, 0, 0.15);\n",
              "      filter: drop-shadow(0px 1px 2px rgba(0, 0, 0, 0.3));\n",
              "      fill: #FFFFFF;\n",
              "    }\n",
              "  </style>\n",
              "\n",
              "      <script>\n",
              "        const buttonEl =\n",
              "          document.querySelector('#df-09e54d2b-c4ee-48e1-b67f-1144cce3ad32 button.colab-df-convert');\n",
              "        buttonEl.style.display =\n",
              "          google.colab.kernel.accessAllowed ? 'block' : 'none';\n",
              "\n",
              "        async function convertToInteractive(key) {\n",
              "          const element = document.querySelector('#df-09e54d2b-c4ee-48e1-b67f-1144cce3ad32');\n",
              "          const dataTable =\n",
              "            await google.colab.kernel.invokeFunction('convertToInteractive',\n",
              "                                                     [key], {});\n",
              "          if (!dataTable) return;\n",
              "\n",
              "          const docLinkHtml = 'Like what you see? Visit the ' +\n",
              "            '<a target=\"_blank\" href=https://colab.research.google.com/notebooks/data_table.ipynb>data table notebook</a>'\n",
              "            + ' to learn more about interactive tables.';\n",
              "          element.innerHTML = '';\n",
              "          dataTable['output_type'] = 'display_data';\n",
              "          await google.colab.output.renderOutput(dataTable, element);\n",
              "          const docLink = document.createElement('div');\n",
              "          docLink.innerHTML = docLinkHtml;\n",
              "          element.appendChild(docLink);\n",
              "        }\n",
              "      </script>\n",
              "    </div>\n",
              "  </div>\n",
              "  "
            ]
          },
          "metadata": {},
          "execution_count": 8
        }
      ],
      "source": [
        "pd.DataFrame(X_train).describe()"
      ]
    },
    {
      "cell_type": "markdown",
      "metadata": {
        "id": "snVONeVb32li"
      },
      "source": [
        "# PCA + SVM"
      ]
    },
    {
      "cell_type": "markdown",
      "metadata": {
        "id": "_dXgU9Dp32li"
      },
      "source": [
        "Task 1: Use X_train, y_train to train a SVM (SKlean's SVC) with the deafult parameters. You can read more about the algorithm in SKlearn's documentation.\n",
        "Make sure you normailize the data by using StandardScaler\n",
        "Evaulate the algorithm using accuracy score and X_test, y_test."
      ]
    },
    {
      "cell_type": "markdown",
      "metadata": {
        "id": "ZCNEfuqy32lj"
      },
      "source": [
        "Task 2: Now do the same, but use PCA.\n",
        "\n",
        "In this task, we want to keep all of the variance! No data is going to be discarded.\n",
        "You are asked to use the maximal number of componenets for PCA.\n",
        "\n",
        "Q1: Your co-worker says that the results should be at least as good as the results we had without PCA. Explain why might he say that.\n",
        "\n",
        "Print the accuracy of SVM + PCA."
      ]
    },
    {
      "cell_type": "markdown",
      "metadata": {
        "id": "lPdbsJQh32lj"
      },
      "source": [
        "# PCA + logistice regression"
      ]
    },
    {
      "cell_type": "markdown",
      "metadata": {
        "id": "p7ZOUCLC32lk"
      },
      "source": [
        "Task 3: repeat task 1 with logistic regression.\n",
        "\n",
        "Task 4: repeast task 2 with logistic regression."
      ]
    },
    {
      "cell_type": "code",
      "execution_count": 9,
      "metadata": {
        "colab": {
          "base_uri": "https://localhost:8080/"
        },
        "id": "Xub7bujTSKDg",
        "outputId": "2ccddf0c-eac5-46a6-b62b-34e23ab2d5b1"
      },
      "outputs": [
        {
          "output_type": "stream",
          "name": "stdout",
          "text": [
            "Accuracy for SVC without 0.9861111111111112\n",
            "Accuracy for SVC with 0.9861111111111112\n",
            "Accuracy for LR without 0.9861111111111112\n",
            "Accuracy for LR with 0.9861111111111112\n",
            "Accuracy for GaussianNB without 0.9722222222222222\n",
            "Accuracy for GaussianNB with 0.9305555555555556\n"
          ]
        }
      ],
      "source": [
        "from sklearn.preprocessing import StandardScaler\n",
        "from sklearn.pipeline import make_pipeline\n",
        "from sklearn.svm import SVC\n",
        "from sklearn.linear_model import LogisticRegression\n",
        "from sklearn.naive_bayes import GaussianNB\n",
        "\n",
        "models = [SVC(gamma='auto'), LogisticRegression(random_state=0), GaussianNB()]\n",
        "models_names = ['SVC', 'LR', 'GaussianNB']\n",
        "with_or_without = ['without', 'with']\n",
        "for i, model in enumerate(models):\n",
        "    for with_PCA in [0, 1]:\n",
        "        if with_PCA:\n",
        "            model_pipeline = make_pipeline(StandardScaler(), PCA(), model)\n",
        "        else:\n",
        "            model_pipeline = make_pipeline(StandardScaler(), model)\n",
        "        model_pipeline.fit(X_train, y_train)\n",
        "        y_pred = model_pipeline.predict(X_test)\n",
        "        accuracy = accuracy_score(y_test, y_pred)\n",
        "        print(\"Accuracy for\", models_names[i], with_or_without[with_PCA], accuracy)"
      ]
    },
    {
      "cell_type": "markdown",
      "metadata": {
        "id": "4CbQ_IMSSKDg"
      },
      "source": [
        "Questions:\n",
        "Q1: Your co-worker says that the results should be at least as good as the results we had without PCA. Explain why might he say that.\n",
        "\n",
        "A1: Since we're not reducing the number of components or the amount of vriance, it seems resonable to expect a similar result.\n",
        "\n",
        "Q2: Did the results improve\\stayed the same\\got worse?\n",
        "\n",
        "A2: The accuracy of the SVM+PCA is exactly the same as the accuracy of the original SVM model.\n",
        "\n",
        "Q3: Did the results improved\\stayed the same\\got worse?\n",
        "\n",
        "A3: the results stayes the same.\n",
        "\n",
        "Q4: How can you explain the difference between answers to Q2 and Q3. Hint: think about the nature of Logistic regression and the main difference of SVM from it. Hint: SVM assumes the data can be seperated by an hyperplan.\n",
        "\n",
        "..."
      ]
    },
    {
      "cell_type": "markdown",
      "metadata": {
        "id": "c_PfC__h32ll"
      },
      "source": [
        "# Visualizing"
      ]
    },
    {
      "cell_type": "markdown",
      "metadata": {
        "id": "lMpkIEQ632ll"
      },
      "source": [
        "Task 5: Use locally linear embedding in sklearn to visualize the data. Plot the results.\n",
        "Optimze the n_neighbors by running at least 5 times and use the best looking result you can find."
      ]
    },
    {
      "cell_type": "code",
      "execution_count": 10,
      "metadata": {
        "id": "qpH7e7kRSKDh"
      },
      "outputs": [],
      "source": [
        "import matplotlib.pyplot as plt\n",
        "\n",
        "def plot(X,y=None):# plot\n",
        "    plt.scatter(X[:, 0], X[:, 1],c=y)\n",
        "    plt.xlabel(\"Feature 0\")\n",
        "    plt.ylabel(\"Feature 1\")\n",
        "    plt.show()"
      ]
    },
    {
      "cell_type": "code",
      "execution_count": 11,
      "metadata": {
        "colab": {
          "base_uri": "https://localhost:8080/"
        },
        "id": "1r8OqTgVSKDh",
        "outputId": "7aaab820-aead-45bf-d775-f0c253a8bcde"
      },
      "outputs": [
        {
          "output_type": "execute_result",
          "data": {
            "text/plain": [
              "(106, 13)"
            ]
          },
          "metadata": {},
          "execution_count": 11
        }
      ],
      "source": [
        "X_train.shape"
      ]
    },
    {
      "cell_type": "code",
      "execution_count": 27,
      "metadata": {
        "colab": {
          "base_uri": "https://localhost:8080/",
          "height": 279
        },
        "id": "MJoKuHt8SKDh",
        "outputId": "5c63a684-aa2d-4eca-d44f-8d826902dc83"
      },
      "outputs": [
        {
          "output_type": "display_data",
          "data": {
            "text/plain": [
              "<Figure size 432x288 with 1 Axes>"
            ],
            "image/png": "[encoded data removed]"
          },
          "metadata": {
            "needs_background": "light"
          }
        }
      ],
      "source": [
        "from sklearn.manifold import LocallyLinearEmbedding\n",
        "# n_neighbors_array = [5, 10, 20]\n",
        "embedding = LocallyLinearEmbedding(n_components=2)\n",
        "X_transformed = embedding.fit_transform(X_train, y_train)\n",
        "plot(X_transformed, y_train)"
      ]
    },
    {
      "cell_type": "markdown",
      "metadata": {
        "id": "WHC6gNno32ll"
      },
      "source": [
        "Task 6: Use t-SNE to visualize the data. Plot the results."
      ]
    },
    {
      "cell_type": "code",
      "execution_count": 25,
      "metadata": {
        "colab": {
          "base_uri": "https://localhost:8080/",
          "height": 370
        },
        "id": "Wn-uPi2gSKDi",
        "outputId": "a6fd71f2-df65-4f4e-ed1d-e53b0ce36e01"
      },
      "outputs": [
        {
          "output_type": "stream",
          "name": "stderr",
          "text": [
            "/usr/local/lib/python3.8/dist-packages/sklearn/manifold/_t_sne.py:780: FutureWarning: The default initialization in TSNE will change from 'random' to 'pca' in 1.2.\n",
            "  warnings.warn(\n",
            "/usr/local/lib/python3.8/dist-packages/sklearn/manifold/_t_sne.py:790: FutureWarning: The default learning rate in TSNE will change from 200.0 to 'auto' in 1.2.\n",
            "  warnings.warn(\n"
          ]
        },
        {
          "output_type": "display_data",
          "data": {
            "text/plain": [
              "<Figure size 432x288 with 1 Axes>"
            ],
            "image/png": "[encoded data removed]"
          },
          "metadata": {
            "needs_background": "light"
          }
        }
      ],
      "source": [
        "from sklearn.manifold import TSNE\n",
        "tsne = TSNE(n_components=2, random_state=0)\n",
        "X_transformed = tsne.fit_transform(X_train, y_train)\n",
        "plot(X_transformed, y_train)"
      ]
    },
    {
      "cell_type": "markdown",
      "metadata": {
        "id": "7PTfZokr32ll"
      },
      "source": [
        "Task 7: Use UMAP to visualize the data. Plot the results."
      ]
    },
    {
      "cell_type": "code",
      "source": [
        "pip install umap-learn"
      ],
      "metadata": {
        "colab": {
          "base_uri": "https://localhost:8080/"
        },
        "id": "lKFS_H9fS9zx",
        "outputId": "2efb4fae-d691-442a-e001-e9137b97155d"
      },
      "execution_count": 14,
      "outputs": [
        {
          "output_type": "stream",
          "name": "stdout",
          "text": [
            "Looking in indexes: https://pypi.org/simple, https://us-python.pkg.dev/colab-wheels/public/simple/\n",
            "Requirement already satisfied: umap-learn in /usr/local/lib/python3.8/dist-packages (0.5.3)\n",
            "Requirement already satisfied: numba>=0.49 in /usr/local/lib/python3.8/dist-packages (from umap-learn) (0.56.4)\n",
            "Requirement already satisfied: pynndescent>=0.5 in /usr/local/lib/python3.8/dist-packages (from umap-learn) (0.5.8)\n",
            "Requirement already satisfied: tqdm in /usr/local/lib/python3.8/dist-packages (from umap-learn) (4.64.1)\n",
            "Requirement already satisfied: numpy>=1.17 in /usr/local/lib/python3.8/dist-packages (from umap-learn) (1.21.6)\n",
            "Requirement already satisfied: scikit-learn>=0.22 in /usr/local/lib/python3.8/dist-packages (from umap-learn) (1.0.2)\n",
            "Requirement already satisfied: scipy>=1.0 in /usr/local/lib/python3.8/dist-packages (from umap-learn) (1.7.3)\n",
            "Requirement already satisfied: setuptools in /usr/local/lib/python3.8/dist-packages (from numba>=0.49->umap-learn) (57.4.0)\n",
            "Requirement already satisfied: llvmlite<0.40,>=0.39.0dev0 in /usr/local/lib/python3.8/dist-packages (from numba>=0.49->umap-learn) (0.39.1)\n",
            "Requirement already satisfied: importlib-metadata in /usr/local/lib/python3.8/dist-packages (from numba>=0.49->umap-learn) (5.2.0)\n",
            "Requirement already satisfied: joblib>=0.11 in /usr/local/lib/python3.8/dist-packages (from pynndescent>=0.5->umap-learn) (1.2.0)\n",
            "Requirement already satisfied: threadpoolctl>=2.0.0 in /usr/local/lib/python3.8/dist-packages (from scikit-learn>=0.22->umap-learn) (3.1.0)\n",
            "Requirement already satisfied: zipp>=0.5 in /usr/local/lib/python3.8/dist-packages (from importlib-metadata->numba>=0.49->umap-learn) (3.11.0)\n"
          ]
        }
      ]
    },
    {
      "cell_type": "code",
      "execution_count": 20,
      "metadata": {
        "id": "HtX0MSnMSKDi"
      },
      "outputs": [],
      "source": [
        "import umap\n",
        "X_transformed = umap.UMAP(n_neighbors=5, random_state=42).fit_transform(X_train, y_train)"
      ]
    },
    {
      "cell_type": "code",
      "source": [
        "plot(X_transformed, y_train)"
      ],
      "metadata": {
        "colab": {
          "base_uri": "https://localhost:8080/",
          "height": 279
        },
        "id": "PfsVpR4Y_DaZ",
        "outputId": "8a5146e9-ff38-4dc7-ba56-2ad63c4ff0b4"
      },
      "execution_count": 24,
      "outputs": [
        {
          "output_type": "display_data",
          "data": {
            "text/plain": [
              "<Figure size 432x288 with 1 Axes>"
            ],
            "image/png": "[encoded data removed]"
          },
          "metadata": {
            "needs_background": "light"
          }
        }
      ]
    },
    {
      "cell_type": "markdown",
      "metadata": {
        "id": "3Z_GjviC32lm"
      },
      "source": [
        "Q5: If we run one of this visualziaing algorithms various times with the default parameters, are we guranteed to see the same results? Why?"
      ]
    }
  ],
  "metadata": {
    "colab": {
      "provenance": []
    },
    "kernel_info": {
      "name": "python3"
    },
    "kernelspec": {
      "display_name": "Python 3 (ipykernel)",
      "language": "python",
      "name": "python3"
    },
    "language_info": {
      "codemirror_mode": {
        "name": "ipython",
        "version": 3
      },
      "file_extension": ".py",
      "mimetype": "text/x-python",
      "name": "python",
      "nbconvert_exporter": "python",
      "pygments_lexer": "ipython3",
      "version": "3.9.13"
    },
    "nteract": {
      "version": "0.15.0"
    }
  },
  "nbformat": 4,
  "nbformat_minor": 0
}